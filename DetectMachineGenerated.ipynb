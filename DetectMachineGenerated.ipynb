{
 "cells": [
  {
   "cell_type": "markdown",
   "metadata": {},
   "source": [
    "# Detect Machine Generated Text - Team IDT"
   ]
  },
  {
   "cell_type": "markdown",
   "metadata": {},
   "source": [
    "# Importing all libraries "
   ]
  },
  {
   "cell_type": "code",
   "execution_count": 27,
   "metadata": {},
   "outputs": [
    {
     "name": "stderr",
     "output_type": "stream",
     "text": [
      "[nltk_data] Downloading package punkt to\n",
      "[nltk_data]     C:\\Users\\av2\\AppData\\Roaming\\nltk_data...\n",
      "[nltk_data]   Package punkt is already up-to-date!\n"
     ]
    }
   ],
   "source": [
    "import numpy as np\n",
    "import jsonlines\n",
    "import matplotlib.pyplot as plt\n",
    "import pandas as pd\n",
    "import nltk\n",
    "#nltk.download()\n",
    "nltk.download('punkt')\n",
    "from nltk import RegexpTokenizer\n",
    "from nltk.corpus import stopwords\n",
    "from sklearn.feature_extraction.text import TfidfVectorizer\n",
    "from sklearn.svm import SVC\n",
    "from datetime import datetime\n",
    "import re\n",
    "from sklearn.decomposition import TruncatedSVD\n",
    "\n",
    "from sklearn.model_selection import train_test_split\n",
    "from sklearn.model_selection import cross_val_score\n",
    "from sklearn.metrics import confusion_matrix, classification_report\n",
    "from sklearn.metrics import roc_auc_score, roc_curve\n",
    "from sklearn.metrics import confusion_matrix\n",
    "from sklearn.metrics import accuracy_score\n",
    "\n",
    "from nltk.tokenize import word_tokenize\n",
    "from nltk.tokenize import sent_tokenize\n",
    "\n",
    "from keras.models import Sequential\n",
    "from keras.layers import Dense\n",
    "from keras.optimizers import SGD\n",
    "\n",
    "import matplotlib.pyplot as plt"
   ]
  },
  {
   "cell_type": "markdown",
   "metadata": {},
   "source": [
    "# Import data"
   ]
  },
  {
   "cell_type": "code",
   "execution_count": 3,
   "metadata": {},
   "outputs": [
    {
     "name": "stdout",
     "output_type": "stream",
     "text": [
      "Shape of Machine generated dataset : (5000, 5)\n",
      "Shape of Human dataset : (5000, 5)\n"
     ]
    }
   ],
   "source": [
    "machine_data = pd.read_json('small-117M.test.jsonl',lines=True)\n",
    "human_data = pd.read_json('webtext.test.jsonl',lines=True)\n",
    "\n",
    "machine_data['machine_generated'] = [1]*machine_data.shape[0]\n",
    "human_data['machine_generated'] = [0]*human_data.shape[0]\n",
    "\n",
    "print(\"Shape of Machine generated dataset :\", machine_data.shape)\n",
    "print(\"Shape of Human dataset :\", human_data.shape)"
   ]
  },
  {
   "cell_type": "code",
   "execution_count": 4,
   "metadata": {},
   "outputs": [
    {
     "data": {
      "text/html": [
       "<div>\n",
       "<style scoped>\n",
       "    .dataframe tbody tr th:only-of-type {\n",
       "        vertical-align: middle;\n",
       "    }\n",
       "\n",
       "    .dataframe tbody tr th {\n",
       "        vertical-align: top;\n",
       "    }\n",
       "\n",
       "    .dataframe thead th {\n",
       "        text-align: right;\n",
       "    }\n",
       "</style>\n",
       "<table border=\"1\" class=\"dataframe\">\n",
       "  <thead>\n",
       "    <tr style=\"text-align: right;\">\n",
       "      <th></th>\n",
       "      <th>ended</th>\n",
       "      <th>id</th>\n",
       "      <th>length</th>\n",
       "      <th>text</th>\n",
       "      <th>machine_generated</th>\n",
       "    </tr>\n",
       "  </thead>\n",
       "  <tbody>\n",
       "    <tr>\n",
       "      <th>0</th>\n",
       "      <td>True</td>\n",
       "      <td>255001</td>\n",
       "      <td>25</td>\n",
       "      <td>The Technology Report empowers or enlightens. ...</td>\n",
       "      <td>1</td>\n",
       "    </tr>\n",
       "    <tr>\n",
       "      <th>1</th>\n",
       "      <td>True</td>\n",
       "      <td>255002</td>\n",
       "      <td>323</td>\n",
       "      <td>Available Colors:\\n\\nWool Revolver\\n\\nwoodinoo...</td>\n",
       "      <td>1</td>\n",
       "    </tr>\n",
       "    <tr>\n",
       "      <th>2</th>\n",
       "      <td>False</td>\n",
       "      <td>255003</td>\n",
       "      <td>1024</td>\n",
       "      <td>OUTLAW CENTER:\\n\\nUPS &amp; EXPORTS Fulfillment 56...</td>\n",
       "      <td>1</td>\n",
       "    </tr>\n",
       "    <tr>\n",
       "      <th>3</th>\n",
       "      <td>False</td>\n",
       "      <td>255004</td>\n",
       "      <td>1024</td>\n",
       "      <td>16 of the past 20 games with each team switche...</td>\n",
       "      <td>1</td>\n",
       "    </tr>\n",
       "    <tr>\n",
       "      <th>4</th>\n",
       "      <td>False</td>\n",
       "      <td>255005</td>\n",
       "      <td>1024</td>\n",
       "      <td>The semiconductor industry has become increasi...</td>\n",
       "      <td>1</td>\n",
       "    </tr>\n",
       "  </tbody>\n",
       "</table>\n",
       "</div>"
      ],
      "text/plain": [
       "   ended      id  length                                               text  \\\n",
       "0   True  255001      25  The Technology Report empowers or enlightens. ...   \n",
       "1   True  255002     323  Available Colors:\\n\\nWool Revolver\\n\\nwoodinoo...   \n",
       "2  False  255003    1024  OUTLAW CENTER:\\n\\nUPS & EXPORTS Fulfillment 56...   \n",
       "3  False  255004    1024  16 of the past 20 games with each team switche...   \n",
       "4  False  255005    1024  The semiconductor industry has become increasi...   \n",
       "\n",
       "   machine_generated  \n",
       "0                  1  \n",
       "1                  1  \n",
       "2                  1  \n",
       "3                  1  \n",
       "4                  1  "
      ]
     },
     "execution_count": 4,
     "metadata": {},
     "output_type": "execute_result"
    }
   ],
   "source": [
    "df = machine_data.append(human_data, ignore_index=True)\n",
    "df.head()"
   ]
  },
  {
   "cell_type": "markdown",
   "metadata": {},
   "source": [
    "# Data Cleaning"
   ]
  },
  {
   "cell_type": "code",
   "execution_count": 5,
   "metadata": {},
   "outputs": [],
   "source": [
    "# This function does cleaning of text in the Dataframe\n",
    "# We are not removing the stop words because they might be important for us in this example\n",
    "\n",
    "def clean(data):\n",
    "    new_data = []\n",
    "    sentences = nltk.sent_tokenize(data)\n",
    "    for sentence in sentences:\n",
    "        sentence = sentence.lower()\n",
    "        words = nltk.word_tokenize(sentence)\n",
    "        for word in words:\n",
    "            new_data.append(word)\n",
    "    return new_data"
   ]
  },
  {
   "cell_type": "code",
   "execution_count": 6,
   "metadata": {},
   "outputs": [
    {
     "data": {
      "text/html": [
       "<div>\n",
       "<style scoped>\n",
       "    .dataframe tbody tr th:only-of-type {\n",
       "        vertical-align: middle;\n",
       "    }\n",
       "\n",
       "    .dataframe tbody tr th {\n",
       "        vertical-align: top;\n",
       "    }\n",
       "\n",
       "    .dataframe thead th {\n",
       "        text-align: right;\n",
       "    }\n",
       "</style>\n",
       "<table border=\"1\" class=\"dataframe\">\n",
       "  <thead>\n",
       "    <tr style=\"text-align: right;\">\n",
       "      <th></th>\n",
       "      <th>ended</th>\n",
       "      <th>id</th>\n",
       "      <th>length</th>\n",
       "      <th>text</th>\n",
       "      <th>machine_generated</th>\n",
       "    </tr>\n",
       "  </thead>\n",
       "  <tbody>\n",
       "    <tr>\n",
       "      <th>0</th>\n",
       "      <td>True</td>\n",
       "      <td>255001</td>\n",
       "      <td>25</td>\n",
       "      <td>the technology report empowers or enlightens ....</td>\n",
       "      <td>1</td>\n",
       "    </tr>\n",
       "    <tr>\n",
       "      <th>1</th>\n",
       "      <td>True</td>\n",
       "      <td>255002</td>\n",
       "      <td>323</td>\n",
       "      <td>available colors : wool revolver woodinooke fa...</td>\n",
       "      <td>1</td>\n",
       "    </tr>\n",
       "    <tr>\n",
       "      <th>2</th>\n",
       "      <td>False</td>\n",
       "      <td>255003</td>\n",
       "      <td>1024</td>\n",
       "      <td>outlaw center : ups &amp; exports fulfillment 56 n...</td>\n",
       "      <td>1</td>\n",
       "    </tr>\n",
       "    <tr>\n",
       "      <th>3</th>\n",
       "      <td>False</td>\n",
       "      <td>255004</td>\n",
       "      <td>1024</td>\n",
       "      <td>16 of the past 20 games with each team switche...</td>\n",
       "      <td>1</td>\n",
       "    </tr>\n",
       "    <tr>\n",
       "      <th>4</th>\n",
       "      <td>False</td>\n",
       "      <td>255005</td>\n",
       "      <td>1024</td>\n",
       "      <td>the semiconductor industry has become increasi...</td>\n",
       "      <td>1</td>\n",
       "    </tr>\n",
       "  </tbody>\n",
       "</table>\n",
       "</div>"
      ],
      "text/plain": [
       "   ended      id  length                                               text  \\\n",
       "0   True  255001      25  the technology report empowers or enlightens ....   \n",
       "1   True  255002     323  available colors : wool revolver woodinooke fa...   \n",
       "2  False  255003    1024  outlaw center : ups & exports fulfillment 56 n...   \n",
       "3  False  255004    1024  16 of the past 20 games with each team switche...   \n",
       "4  False  255005    1024  the semiconductor industry has become increasi...   \n",
       "\n",
       "   machine_generated  \n",
       "0                  1  \n",
       "1                  1  \n",
       "2                  1  \n",
       "3                  1  \n",
       "4                  1  "
      ]
     },
     "execution_count": 6,
     "metadata": {},
     "output_type": "execute_result"
    }
   ],
   "source": [
    "for i in range(0,len(df['text'])):\n",
    "    text = df.loc[i,'text']\n",
    "    df.at[i,'text'] = \" \".join(clean(text))\n",
    "    \n",
    "df.head()"
   ]
  },
  {
   "cell_type": "markdown",
   "metadata": {},
   "source": [
    "# Evaluation function"
   ]
  },
  {
   "cell_type": "code",
   "execution_count": 25,
   "metadata": {},
   "outputs": [],
   "source": [
    "def evalModel(y_test,y_pred):\n",
    "    \n",
    "    print(\"Accuracy = \", accuracy_score(y_test, y_pred))\n",
    "    \n",
    "    print(\"Confusion Matrix : \")\n",
    "    cm = confusion_matrix(y_test, y_pred)\n",
    "    print(cm)\n",
    "    \n",
    "    print(\"Classification Report : \")\n",
    "    print(classification_report(y_test, y_pred))\n",
    "    \n",
    "    fpr, tpr, threshold = roc_curve(y_test, y_pred)\n",
    "    roc_auc = roc_auc_score(y_test, y_pred)\n",
    "    print(\"Area under ROC curve = \", roc_auc)\n",
    "    \n",
    "    plt.title(\"ROC Curve\")\n",
    "    plt.plot(fpr, tpr, 'b', label = 'AUC = %0.2f' % roc_auc)\n",
    "    plt.legend(loc = 'lower right')\n",
    "    plt.plot([0, 1], [0, 1],'r--')\n",
    "    plt.xlim([0, 1])\n",
    "    plt.ylim([0, 1])\n",
    "    plt.ylabel('True Positive Rate')\n",
    "    plt.xlabel('False Positive Rate')\n",
    "    plt.show() "
   ]
  },
  {
   "cell_type": "markdown",
   "metadata": {},
   "source": [
    "# SVM Model "
   ]
  },
  {
   "cell_type": "code",
   "execution_count": 8,
   "metadata": {},
   "outputs": [],
   "source": [
    "# Function for fitting SVM to the training set\n",
    "def svmModel(X_train,X_test,y_train):\n",
    "    \n",
    "    print(\"Fitting the model started at \", datetime.now())\n",
    "    classifier = SVC(kernel='linear')\n",
    "    trained_model = classifier.fit(X_train, y_train)\n",
    "    print(\"Predicting started at \", datetime.now())\n",
    "    y_pred = trained_model.predict(X_test)\n",
    "    print(\"Predicted by \", datetime.now())\n",
    "    return y_pred"
   ]
  },
  {
   "cell_type": "markdown",
   "metadata": {},
   "source": [
    "# ANN Model"
   ]
  },
  {
   "cell_type": "code",
   "execution_count": 9,
   "metadata": {},
   "outputs": [],
   "source": [
    "# Function for fitting ANN to the training set\n",
    "def annModel(X_train,X_test,y_train, epochs):\n",
    "    \n",
    "    model = Sequential()\n",
    "    model.add(Dense(X_train.shape[1], input_dim=X_train.shape[1], kernel_initializer='normal', activation='relu'))\n",
    "    model.add(Dense(46, kernel_initializer='normal', activation='relu'))\n",
    "    model.add(Dense(1, kernel_initializer='normal', activation='sigmoid'))\n",
    "    \n",
    "    print(\"Compiling the model started at \", datetime.now())\n",
    "    # Compile model\n",
    "    sgd = SGD(lr=0.01, momentum=0.8, decay=0.0, nesterov=False)\n",
    "    model.compile(loss='binary_crossentropy', optimizer=sgd, metrics=['accuracy'])\n",
    "    \n",
    "    print(\"Fitting the model started at \", datetime.now())\n",
    "    # Fit the model. We manually provide the train and test partition\n",
    "    history = model.fit(X_train, y_train, validation_split=0.25, epochs=epochs, batch_size=16, verbose=2)\n",
    "    \n",
    "    # list all data in history\n",
    "    print(history.history.keys())\n",
    "\n",
    "    # summarize history for accuracy\n",
    "    plt.plot(history.history['acc'])\n",
    "    plt.plot(history.history['val_acc'])\n",
    "    plt.title('model accuracy')\n",
    "    plt.ylabel('accuracy')\n",
    "    plt.xlabel('epoch')\n",
    "    plt.legend(['train', 'test'], loc='upper left')\n",
    "    plt.show()\n",
    "\n",
    "    # summarize history for loss\n",
    "    plt.plot(history.history['loss'])\n",
    "    plt.plot(history.history['val_loss'])\n",
    "    plt.title('model loss')\n",
    "    plt.ylabel('loss')\n",
    "    plt.xlabel('epoch')\n",
    "    \n",
    "    plt.legend(['train', 'test'], loc='upper left')\n",
    "    plt.show()\n",
    "    \n",
    "    print(\"Predicting started at \", datetime.now())\n",
    "    probs = model.predict(X_test)\n",
    "    print(\"Predicted by \", datetime.now())\n",
    "    \n",
    "    y_pred = []\n",
    "    for i in probs:\n",
    "        if(i < 0.5):\n",
    "            y_pred.append(0)\n",
    "        else:\n",
    "            y_pred.append(1)\n",
    "    \n",
    "    return y_pred"
   ]
  },
  {
   "cell_type": "markdown",
   "metadata": {},
   "source": [
    "# SVD "
   ]
  },
  {
   "cell_type": "code",
   "execution_count": null,
   "metadata": {},
   "outputs": [],
   "source": [
    "# Applying truncatedSVD (as PCA does not support sparse matrix for text) \n",
    "\n",
    "text = df['text'].tolist()\n",
    "vectorizer = TfidfVectorizer(max_features=15000)\n",
    "X =vectorizer.fit_transform(text).toarray()\n",
    "y = df['machine_generated'].values\n",
    "\n",
    "# original data has more than 15000 columns\n",
    "svd = TruncatedSVD(n_components=3000, random_state=42)\n",
    "X = svd.fit_transform(X)"
   ]
  },
  {
   "cell_type": "markdown",
   "metadata": {},
   "source": [
    "# Data Splitting"
   ]
  },
  {
   "cell_type": "code",
   "execution_count": 19,
   "metadata": {},
   "outputs": [
    {
     "name": "stdout",
     "output_type": "stream",
     "text": [
      "Percentage of variance explained by selected columns:  0.7615259183280156\n",
      "The shapes of each of the data sets are: \n",
      "\t\t X_train =  (8000, 15000)\n",
      "\t\t y_train =  (8000,)\n",
      "\t\t X_test =  (2000, 15000)\n",
      "\t\t y_test =  (2000,)\n"
     ]
    }
   ],
   "source": [
    "print(\"Percentage of variance explained by selected columns: \", svd.explained_variance_ratio_.sum())\n",
    "\n",
    "X_train, X_test, y_train, y_test = train_test_split(X, y, test_size=0.2, random_state=101)\n",
    "\n",
    "print(\"The shapes of each of the data sets are: \")\n",
    "print(\"\\t\\t X_train = \", X_train.shape)\n",
    "print(\"\\t\\t y_train = \", y_train.shape)\n",
    "print(\"\\t\\t X_test = \", X_test.shape)\n",
    "print(\"\\t\\t y_test = \", y_test.shape)"
   ]
  },
  {
   "cell_type": "markdown",
   "metadata": {},
   "source": [
    "# Run SVM Model"
   ]
  },
  {
   "cell_type": "code",
   "execution_count": 20,
   "metadata": {},
   "outputs": [
    {
     "name": "stdout",
     "output_type": "stream",
     "text": [
      "Fitting the model started at  2020-05-20 13:22:56.339925\n",
      "Predicting started at  2020-05-20 13:43:41.186399\n",
      "Predicted by  2020-05-20 13:48:44.958916\n"
     ]
    }
   ],
   "source": [
    "y_pred_svm = svmModel(X_train,X_test,y_train)"
   ]
  },
  {
   "cell_type": "code",
   "execution_count": 28,
   "metadata": {},
   "outputs": [
    {
     "name": "stdout",
     "output_type": "stream",
     "text": [
      "Accuracy =  0.7755\n",
      "Confusion Matrix : \n",
      "[[827 180]\n",
      " [269 724]]\n",
      "Classification Report : \n",
      "              precision    recall  f1-score   support\n",
      "\n",
      "           0       0.75      0.82      0.79      1007\n",
      "           1       0.80      0.73      0.76       993\n",
      "\n",
      "   micro avg       0.78      0.78      0.78      2000\n",
      "   macro avg       0.78      0.78      0.77      2000\n",
      "weighted avg       0.78      0.78      0.77      2000\n",
      "\n",
      "Area under ROC curve =  0.775177483696701\n"
     ]
    },
    {
     "data": {
      "image/png": "[encoded data removed]",
      "text/plain": [
       "<Figure size 432x288 with 1 Axes>"
      ]
     },
     "metadata": {
      "needs_background": "light"
     },
     "output_type": "display_data"
    }
   ],
   "source": [
    "evalModel(y_test,y_pred_svm)"
   ]
  },
  {
   "cell_type": "markdown",
   "metadata": {},
   "source": [
    "# Run ANN Model"
   ]
  },
  {
   "cell_type": "code",
   "execution_count": 30,
   "metadata": {},
   "outputs": [
    {
     "name": "stdout",
     "output_type": "stream",
     "text": [
      "Compiling the model started at  2020-05-20 18:14:01.558228\n",
      "Fitting the model started at  2020-05-20 18:14:01.642227\n",
      "Train on 6000 samples, validate on 2000 samples\n",
      "Epoch 1/3\n",
      " - 526s - loss: 0.6816 - acc: 0.5880 - val_loss: 0.6608 - val_acc: 0.6420\n",
      "Epoch 2/3\n",
      " - 522s - loss: 0.5939 - acc: 0.7118 - val_loss: 0.5580 - val_acc: 0.7285\n",
      "Epoch 3/3\n",
      " - 495s - loss: 0.4686 - acc: 0.7812 - val_loss: 0.4898 - val_acc: 0.7530\n",
      "dict_keys(['val_loss', 'val_acc', 'loss', 'acc'])\n"
     ]
    },
    {
     "data": {
      "image/png": "[encoded data removed]",
      "text/plain": [
       "<Figure size 432x288 with 1 Axes>"
      ]
     },
     "metadata": {
      "needs_background": "light"
     },
     "output_type": "display_data"
    },
    {
     "data": {
      "image/png": "[encoded data removed]",
      "text/plain": [
       "<Figure size 432x288 with 1 Axes>"
      ]
     },
     "metadata": {
      "needs_background": "light"
     },
     "output_type": "display_data"
    },
    {
     "name": "stdout",
     "output_type": "stream",
     "text": [
      "Predicting started at  2020-05-20 18:39:47.016262\n",
      "Predicted by  2020-05-20 18:40:09.546259\n"
     ]
    }
   ],
   "source": [
    "y_pred_ann = annModel(X_train,X_test,y_train,3)"
   ]
  },
  {
   "cell_type": "code",
   "execution_count": 31,
   "metadata": {},
   "outputs": [
    {
     "name": "stdout",
     "output_type": "stream",
     "text": [
      "Accuracy =  0.7475\n",
      "Confusion Matrix : \n",
      "[[727 280]\n",
      " [225 768]]\n",
      "Classification Report : \n",
      "              precision    recall  f1-score   support\n",
      "\n",
      "           0       0.76      0.72      0.74      1007\n",
      "           1       0.73      0.77      0.75       993\n",
      "\n",
      "   micro avg       0.75      0.75      0.75      2000\n",
      "   macro avg       0.75      0.75      0.75      2000\n",
      "weighted avg       0.75      0.75      0.75      2000\n",
      "\n",
      "Area under ROC curve =  0.74768013632668\n"
     ]
    },
    {
     "data": {
      "image/png": "[encoded data removed]",
      "text/plain": [
       "<Figure size 432x288 with 1 Axes>"
      ]
     },
     "metadata": {
      "needs_background": "light"
     },
     "output_type": "display_data"
    }
   ],
   "source": [
    "evalModel(y_test,y_pred_ann)"
   ]
  },
  {
   "cell_type": "code",
   "execution_count": 32,
   "metadata": {},
   "outputs": [],
   "source": [
    "# A better method for solving the problem would be to create our own features from the given text and then\n",
    "# apply a model on those features.\n",
    "# Some of the features that can be considered are:\n",
    "#      - Probability of the word being predicted by a next-word predictor model\n",
    "#      - Average bigram/trigram probability for each of the sentences \n",
    "#      - Average length of a sentence\n",
    "#      - Ratio of special characters to total no. of characters\n",
    "#      - No. of special characters used purely for formatting purposes\n",
    "#      - Counts of each of the POS tagging values ( ~ avg. no. of nouns,verbs,pronouns in a sentence)\n",
    "#      - Difficulty level in identifying the sentiment of the text\n",
    "# We can also use some models which can identify grammatical errors in the text data"
   ]
  }
 ],
 "metadata": {
  "kernelspec": {
   "display_name": "Python 3",
   "language": "python",
   "name": "python3"
  },
  "language_info": {
   "codemirror_mode": {
    "name": "ipython",
    "version": 3
   },
   "file_extension": ".py",
   "mimetype": "text/x-python",
   "name": "python",
   "nbconvert_exporter": "python",
   "pygments_lexer": "ipython3",
   "version": "3.7.1"
  }
 },
 "nbformat": 4,
 "nbformat_minor": 2
}
